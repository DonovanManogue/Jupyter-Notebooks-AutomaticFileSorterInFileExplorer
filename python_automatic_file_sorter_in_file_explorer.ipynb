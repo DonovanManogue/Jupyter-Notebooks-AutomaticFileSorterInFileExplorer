{
 "cells": [
  {
   "cell_type": "markdown",
   "id": "d5e24801-7712-4967-b1b3-521536c964d6",
   "metadata": {},
   "source": [
    "# Automatic File Sorter in File Explorer"
   ]
  },
  {
   "cell_type": "code",
   "execution_count": 38,
   "id": "0d666215-9d5d-489f-9031-780d8dfd338b",
   "metadata": {},
   "outputs": [],
   "source": [
    "import os, shutil"
   ]
  },
  {
   "cell_type": "code",
   "execution_count": 39,
   "id": "d956d29b",
   "metadata": {},
   "outputs": [],
   "source": [
    "path = r\"C:/Users/Donovan/Documents/File_Sorter_EX/\""
   ]
  },
  {
   "cell_type": "code",
   "execution_count": 40,
   "id": "8e76befd",
   "metadata": {},
   "outputs": [],
   "source": [
    "file_name=os.listdir(path)"
   ]
  },
  {
   "cell_type": "code",
   "execution_count": 41,
   "id": "32175800",
   "metadata": {},
   "outputs": [],
   "source": [
    "folder_names=['Excel Files','Image Files','TXT Files']\n",
    "\n",
    "for loop in range(0,3):\n",
    "    if not os.path.exists(path+ folder_names[loop]):\n",
    "        print(path+ folder_names[loop])\n",
    "        os.makedirs(path+folder_names[loop])\n",
    "for file in file_name:\n",
    "    if \".xlsx\" in file and not os.path.exists(path+ \"Excel Files/\"+ file):\n",
    "        shutil.move(path+ file,path+ \"Excel Files/\"+ file)\n",
    "    elif \".png\" in file and not os.path.exists(path+ \"Image Files/\"+ file):\n",
    "        shutil.move(path+ file,path+ \"Imagsts(path+ \"Image Files/\"+ file):\n",
    "        shutil.move(path+ file,path+e Files/\"+ file)\n",
    "    elif \".jpg\" in file and not os.path.exi \"Image Files/\"+ file)\n",
    "    elif \".txt\" in file and not os.path.exists(path+ \"TXT Files/\"+ file):\n",
    "        shutil.move(path+ file,path+ \"TXT Files/\"+ file)"
   ]
  },
  {
   "cell_type": "code",
   "execution_count": 42,
   "id": "bb864a03",
   "metadata": {},
   "outputs": [],
   "source": [
    "#this project takes sample files and creates a sorter that can easily sort tons of files in a faster more efficient way."
   ]
  },
  {
   "cell_type": "code",
   "execution_count": null,
   "id": "e299b58a",
   "metadata": {},
   "outputs": [],
   "source": []
  },
  {
   "cell_type": "code",
   "execution_count": null,
   "id": "6977d218",
   "metadata": {},
   "outputs": [],
   "source": []
  },
  {
   "cell_type": "code",
   "execution_count": null,
   "id": "b3b60055",
   "metadata": {},
   "outputs": [],
   "source": []
  },
  {
   "cell_type": "code",
   "execution_count": null,
   "id": "64f26956",
   "metadata": {},
   "outputs": [],
   "source": []
  },
  {
   "cell_type": "code",
   "execution_count": null,
   "id": "5ac8c2d1",
   "metadata": {},
   "outputs": [],
   "source": []
  }
 ],
 "metadata": {
  "kernelspec": {
   "display_name": "Python 3 (ipykernel)",
   "language": "python",
   "name": "python3"
  },
  "language_info": {
   "codemirror_mode": {
    "name": "ipython",
    "version": 3
   },
   "file_extension": ".py",
   "mimetype": "text/x-python",
   "name": "python",
   "nbconvert_exporter": "python",
   "pygments_lexer": "ipython3",
   "version": "3.11.7"
  }
 },
 "nbformat": 4,
 "nbformat_minor": 5
}
